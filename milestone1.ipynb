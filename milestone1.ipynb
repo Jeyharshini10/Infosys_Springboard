{
  "nbformat": 4,
  "nbformat_minor": 0,
  "metadata": {
    "colab": {
      "provenance": [],
      "toc_visible": true,
      "gpuType": "T4",
      "authorship_tag": "ABX9TyNoV1qO4q/JRB2PTBAdGfse",
      "include_colab_link": true
    },
    "kernelspec": {
      "name": "python3",
      "display_name": "Python 3"
    },
    "language_info": {
      "name": "python"
    },
    "accelerator": "GPU",
    "749d4d03804d4d1b9301565566892546": {
          "model_module": "@jupyter-widgets/controls",
          "model_name": "HTMLModel",
          "model_module_version": "1.5.0",
          "state": {
            "_dom_classes": [],
            "_model_module": "@jupyter-widgets/controls",
            "_model_module_version": "1.5.0",
            "_model_name": "HTMLModel",
            "_view_count": null,
            "_view_module": "@jupyter-widgets/controls",
            "_view_module_version": "1.5.0",
            "_view_name": "HTMLView",
            "description": "",
            "description_tooltip": null,
            "layout": "IPY_MODEL_36193a7784f24b299004f09c5df8036d",
            "placeholder": "​",
            "style": "IPY_MODEL_d1f90e8990434742aab140f59eab1c71",
            "value": "vocab.json: "
          }
        },
        "929fa1bb12df41819f551d99c9060ad4": {
          "model_module": "@jupyter-widgets/controls",
          "model_name": "FloatProgressModel",
          "model_module_version": "1.5.0",
          "state": {
            "_dom_classes": [],
            "_model_module": "@jupyter-widgets/controls",
            "_model_module_version": "1.5.0",
            "_model_name": "FloatProgressModel",
            "_view_count": null,
            "_view_module": "@jupyter-widgets/controls",
            "_view_module_version": "1.5.0",
            "_view_name": "ProgressView",
            "bar_style": "success",
            "description": "",
            "description_tooltip": null,
            "layout": "IPY_MODEL_a1466e1932334f86a2ad98ec697fdb07",
            "max": 1,
            "min": 0,
            "orientation": "horizontal",
            "style": "IPY_MODEL_2805b6072def4d53b9e2681cc35aea56",
            "value": 1
          }
        },
        "764c804141d64ab99351560f00a3d0fc": {
          "model_module": "@jupyter-widgets/controls",
          "model_name": "HTMLModel",
          "model_module_version": "1.5.0",
          "state": {
            "_dom_classes": [],
            "_model_module": "@jupyter-widgets/controls",
            "_model_module_version": "1.5.0",
            "_model_name": "HTMLModel",
            "_view_count": null,
            "_view_module": "@jupyter-widgets/controls",
            "_view_module_version": "1.5.0",
            "_view_name": "HTMLView",
            "description": "",
            "description_tooltip": null,
            "layout": "IPY_MODEL_abf428255c7a4b5280c15c9f873345ad",
            "placeholder": "​",
            "style": "IPY_MODEL_54f87c9c21284331b6373db71f297c84",
            "value": " 899k/? [00:00&lt;00:00, 14.8MB/s]"
          }
        },
        "eaba00f5f3404499a2ef16f31c229153": {
          "model_module": "@jupyter-widgets/base",
          "model_name": "LayoutModel",
          "model_module_version": "1.2.0",
          "state": {
            "_model_module": "@jupyter-widgets/base",
            "_model_module_version": "1.2.0",
            "_model_name": "LayoutModel",
            "_view_count": null,
            "_view_module": "@jupyter-widgets/base",
            "_view_module_version": "1.2.0",
            "_view_name": "LayoutView",
            "align_content": null,
            "align_items": null,
            "align_self": null,
            "border": null,
            "bottom": null,
            "display": null,
            "flex": null,
            "flex_flow": null,
            "grid_area": null,
            "grid_auto_columns": null,
            "grid_auto_flow": null,
            "grid_auto_rows": null,
            "grid_column": null,
            "grid_gap": null,
            "grid_row": null,
            "grid_template_areas": null,
            "grid_template_columns": null,
            "grid_template_rows": null,
            "height": null,
            "justify_content": null,
            "justify_items": null,
            "left": null,
            "margin": null,
            "max_height": null,
            "max_width": null,
            "min_height": null,
            "min_width": null,
            "object_fit": null,
            "object_position": null,
            "order": null,
            "overflow": null,
            "overflow_x": null,
            "overflow_y": null,
            "padding": null,
            "right": null,
            "top": null,
            "visibility": null,
            "width": null
          }
        },
        "36193a7784f24b299004f09c5df8036d": {
          "model_module": "@jupyter-widgets/base",
          "model_name": "LayoutModel",
          "model_module_version": "1.2.0",
          "state": {
            "_model_module": "@jupyter-widgets/base",
            "_model_module_version": "1.2.0",
            "_model_name": "LayoutModel",
            "_view_count": null,
            "_view_module": "@jupyter-widgets/base",
            "_view_module_version": "1.2.0",
            "_view_name": "LayoutView",
            "align_content": null,
            "align_items": null,
            "align_self": null,
            "border": null,
            "bottom": null,
            "display": null,
            "flex": null,
            "flex_flow": null,
            "grid_area": null,
            "grid_auto_columns": null,
            "grid_auto_flow": null,
            "grid_auto_rows": null,
            "grid_column": null,
            "grid_gap": null,
            "grid_row": null,
            "grid_template_areas": null,
            "grid_template_columns": null,
            "grid_template_rows": null,
            "height": null,
            "justify_content": null,
            "justify_items": null,
            "left": null,
            "margin": null,
            "max_height": null,
            "max_width": null,
            "min_height": null,
            "min_width": null,
            "object_fit": null,
            "object_position": null,
            "order": null,
            "overflow": null,
            "overflow_x": null,
            "overflow_y": null,
            "padding": null,
            "right": null,
            "top": null,
            "visibility": null,
            "width": null
          }
        },
        "d1f90e8990434742aab140f59eab1c71": {
          "model_module": "@jupyter-widgets/controls",
          "model_name": "DescriptionStyleModel",
          "model_module_version": "1.5.0",
          "state": {
            "_model_module": "@jupyter-widgets/controls",
            "_model_module_version": "1.5.0",
            "_model_name": "DescriptionStyleModel",
            "_view_count": null,
            "_view_module": "@jupyter-widgets/base",
            "_view_module_version": "1.2.0",
            "_view_name": "StyleView",
            "description_width": ""
          }
        },
        "a1466e1932334f86a2ad98ec697fdb07": {
          "model_module": "@jupyter-widgets/base",
          "model_name": "LayoutModel",
          "model_module_version": "1.2.0",
          "state": {
            "_model_module": "@jupyter-widgets/base",
            "_model_module_version": "1.2.0",
            "_model_name": "LayoutModel",
            "_view_count": null,
            "_view_module": "@jupyter-widgets/base",
            "_view_module_version": "1.2.0",
            "_view_name": "LayoutView",
            "align_content": null,
            "align_items": null,
            "align_self": null,
            "border": null,
            "bottom": null,
            "display": null,
            "flex": null,
            "flex_flow": null,
            "grid_area": null,
            "grid_auto_columns": null,
            "grid_auto_flow": null,
            "grid_auto_rows": null,
            "grid_column": null,
            "grid_gap": null,
            "grid_row": null,
            "grid_template_areas": null,
            "grid_template_columns": null,
            "grid_template_rows": null,
            "height": null,
            "justify_content": null,
            "justify_items": null,
            "left": null,
            "margin": null,
            "max_height": null,
            "max_width": null,
            "min_height": null,
            "min_width": null,
            "object_fit": null,
            "object_position": null,
            "order": null,
            "overflow": null,
            "overflow_x": null,
            "overflow_y": null,
            "padding": null,
            "right": null,
            "top": null,
            "visibility": null,
            "width": "20px"
          }
        },
        "2805b6072def4d53b9e2681cc35aea56": {
          "model_module": "@jupyter-widgets/controls",
          "model_name": "ProgressStyleModel",
          "model_module_version": "1.5.0",
          "state": {
            "_model_module": "@jupyter-widgets/controls",
            "_model_module_version": "1.5.0",
            "_model_name": "ProgressStyleModel",
            "_view_count": null,
            "_view_module": "@jupyter-widgets/base",
            "_view_module_version": "1.2.0",
            "_view_name": "StyleView",
            "bar_color": null,
            "description_width": ""
          }
        },
        "abf428255c7a4b5280c15c9f873345ad": {
          "model_module": "@jupyter-widgets/base",
          "model_name": "LayoutModel",
          "model_module_version": "1.2.0",
          "state": {
            "_model_module": "@jupyter-widgets/base",
            "_model_module_version": "1.2.0",
            "_model_name": "LayoutModel",
            "_view_count": null,
            "_view_module": "@jupyter-widgets/base",
            "_view_module_version": "1.2.0",
            "_view_name": "LayoutView",
            "align_content": null,
            "align_items": null,
            "align_self": null,
            "border": null,
            "bottom": null,
            "display": null,
            "flex": null,
            "flex_flow": null,
            "grid_area": null,
            "grid_auto_columns": null,
            "grid_auto_flow": null,
            "grid_auto_rows": null,
            "grid_column": null,
            "grid_gap": null,
            "grid_row": null,
            "grid_template_areas": null,
            "grid_template_columns": null,
            "grid_template_rows": null,
            "height": null,
            "justify_content": null,
            "justify_items": null,
            "left": null,
            "margin": null,
            "max_height": null,
            "max_width": null,
            "min_height": null,
            "min_width": null,
            "object_fit": null,
            "object_position": null,
            "order": null,
            "overflow": null,
            "overflow_x": null,
            "overflow_y": null,
            "padding": null,
            "right": null,
            "top": null,
            "visibility": null,
            "width": null
          }
        },
        "54f87c9c21284331b6373db71f297c84": {
          "model_module": "@jupyter-widgets/controls",
          "model_name": "DescriptionStyleModel",
          "model_module_version": "1.5.0",
          "state": {
            "_model_module": "@jupyter-widgets/controls",
            "_model_module_version": "1.5.0",
            "_model_name": "DescriptionStyleModel",
            "_view_count": null,
            "_view_module": "@jupyter-widgets/base",
            "_view_module_version": "1.2.0",
            "_view_name": "StyleView",
            "description_width": ""
          }
        },
        "18ebeaee9a934beaa920ef236b73481d": {
          "model_module": "@jupyter-widgets/controls",
          "model_name": "HBoxModel",
          "model_module_version": "1.5.0",
          "state": {
            "_dom_classes": [],
            "_model_module": "@jupyter-widgets/controls",
            "_model_module_version": "1.5.0",
            "_model_name": "HBoxModel",
            "_view_count": null,
            "_view_module": "@jupyter-widgets/controls",
            "_view_module_version": "1.5.0",
            "_view_name": "HBoxView",
            "box_style": "",
            "children": [
              "IPY_MODEL_451dba48f51045af9256a997ebc1b1de",
              "IPY_MODEL_8b34060535974395b918e69583bbf9be",
              "IPY_MODEL_e5ab93b4243f40a49daaf542440066e8"
            ],
            "layout": "IPY_MODEL_abaf65df829344d4b749ca90d2560db2"
          }
        },
        "451dba48f51045af9256a997ebc1b1de": {
          "model_module": "@jupyter-widgets/controls",
          "model_name": "HTMLModel",
          "model_module_version": "1.5.0",
          "state": {
            "_dom_classes": [],
            "_model_module": "@jupyter-widgets/controls",
            "_model_module_version": "1.5.0",
            "_model_name": "HTMLModel",
            "_view_count": null,
            "_view_module": "@jupyter-widgets/controls",
            "_view_module_version": "1.5.0",
            "_view_name": "HTMLView",
            "description": "",
            "description_tooltip": null,
            "layout": "IPY_MODEL_1e3d0d6ad1c0455c87ae3fc92ae9b20a",
            "placeholder": "​",
            "style": "IPY_MODEL_6ba97743537747d2ac24395f28a16249",
            "value": "merges.txt: "
          }
        },
        "8b34060535974395b918e69583bbf9be": {
          "model_module": "@jupyter-widgets/controls",
          "model_name": "FloatProgressModel",
          "model_module_version": "1.5.0",
          "state": {
            "_dom_classes": [],
            "_model_module": "@jupyter-widgets/controls",
            "_model_module_version": "1.5.0",
            "_model_name": "FloatProgressModel",
            "_view_count": null,
            "_view_module": "@jupyter-widgets/controls",
            "_view_module_version": "1.5.0",
            "_view_name": "ProgressView",
            "bar_style": "success",
            "description": "",
            "description_tooltip": null,
            "layout": "IPY_MODEL_0da8d2a01c6848c3ae224fe892710dc3",
            "max": 1,
            "min": 0,
            "orientation": "horizontal",
            "style": "IPY_MODEL_85b38d0876db4279a7abe853ae418db3",
            "value": 1
          }
        },
        "e5ab93b4243f40a49daaf542440066e8": {
          "model_module": "@jupyter-widgets/controls",
          "model_name": "HTMLModel",
          "model_module_version": "1.5.0",
          "state": {
            "_dom_classes": [],
            "_model_module": "@jupyter-widgets/controls",
            "_model_module_version": "1.5.0",
            "_model_name": "HTMLModel",
            "_view_count": null,
            "_view_module": "@jupyter-widgets/controls",
            "_view_module_version": "1.5.0",
            "_view_name": "HTMLView",
            "description": "",
            "description_tooltip": null,
            "layout": "IPY_MODEL_394b7fa837b142e7ba9ee43ddbb19648",
            "placeholder": "​",
            "style": "IPY_MODEL_c8f28f25faed4b07a024d490851dde5d",
            "value": " 456k/? [00:00&lt;00:00, 6.81MB/s]"
          }
        },
        "abaf65df829344d4b749ca90d2560db2": {
          "model_module": "@jupyter-widgets/base",
          "model_name": "LayoutModel",
          "model_module_version": "1.2.0",
          "state": {
            "_model_module": "@jupyter-widgets/base",
            "_model_module_version": "1.2.0",
            "_model_name": "LayoutModel",
            "_view_count": null,
            "_view_module": "@jupyter-widgets/base",
            "_view_module_version": "1.2.0",
            "_view_name": "LayoutView",
            "align_content": null,
            "align_items": null,
            "align_self": null,
            "border": null,
            "bottom": null,
            "display": null,
            "flex": null,
            "flex_flow": null,
            "grid_area": null,
            "grid_auto_columns": null,
            "grid_auto_flow": null,
            "grid_auto_rows": null,
            "grid_column": null,
            "grid_gap": null,
            "grid_row": null,
            "grid_template_areas": null,
            "grid_template_columns": null,
            "grid_template_rows": null,
            "height": null,
            "justify_content": null,
            "justify_items": null,
            "left": null,
            "margin": null,
            "max_height": null,
            "max_width": null,
            "min_height": null,
            "min_width": null,
            "object_fit": null,
            "object_position": null,
            "order": null,
            "overflow": null,
            "overflow_x": null,
            "overflow_y": null,
            "padding": null,
            "right": null,
            "top": null,
            "visibility": null,
            "width": null
          }
        },
        "1e3d0d6ad1c0455c87ae3fc92ae9b20a": {
          "model_module": "@jupyter-widgets/base",
          "model_name": "LayoutModel",
          "model_module_version": "1.2.0",
          "state": {
            "_model_module": "@jupyter-widgets/base",
            "_model_module_version": "1.2.0",
            "_model_name": "LayoutModel",
            "_view_count": null,
            "_view_module": "@jupyter-widgets/base",
            "_view_module_version": "1.2.0",
            "_view_name": "LayoutView",
            "align_content": null,
            "align_items": null,
            "align_self": null,
            "border": null,
            "bottom": null,
            "display": null,
            "flex": null,
            "flex_flow": null,
            "grid_area": null,
            "grid_auto_columns": null,
            "grid_auto_flow": null,
            "grid_auto_rows": null,
            "grid_column": null,
            "grid_gap": null,
            "grid_row": null,
            "grid_template_areas": null,
            "grid_template_columns": null,
            "grid_template_rows": null,
            "height": null,
            "justify_content": null,
            "justify_items": null,
            "left": null,
            "margin": null,
            "max_height": null,
            "max_width": null,
            "min_height": null,
            "min_width": null,
            "object_fit": null,
            "object_position": null,
            "order": null,
            "overflow": null,
            "overflow_x": null,
            "overflow_y": null,
            "padding": null,
            "right": null,
            "top": null,
            "visibility": null,
            "width": null
          }
        },
        "6ba97743537747d2ac24395f28a16249": {
          "model_module": "@jupyter-widgets/controls",
          "model_name": "DescriptionStyleModel",
          "model_module_version": "1.5.0",
          "state": {
            "_model_module": "@jupyter-widgets/controls",
            "_model_module_version": "1.5.0",
            "_model_name": "DescriptionStyleModel",
            "_view_count": null,
            "_view_module": "@jupyter-widgets/base",
            "_view_module_version": "1.2.0",
            "_view_name": "StyleView",
            "description_width": ""
          }
        },
        "0da8d2a01c6848c3ae224fe892710dc3": {
          "model_module": "@jupyter-widgets/base",
          "model_name": "LayoutModel",
          "model_module_version": "1.2.0",
          "state": {
            "_model_module": "@jupyter-widgets/base",
            "_model_module_version": "1.2.0",
            "_model_name": "LayoutModel",
            "_view_count": null,
            "_view_module": "@jupyter-widgets/base",
            "_view_module_version": "1.2.0",
            "_view_name": "LayoutView",
            "align_content": null,
            "align_items": null,
            "align_self": null,
            "border": null,
            "bottom": null,
            "display": null,
            "flex": null,
            "flex_flow": null,
            "grid_area": null,
            "grid_auto_columns": null,
            "grid_auto_flow": null,
            "grid_auto_rows": null,
            "grid_column": null,
            "grid_gap": null,
            "grid_row": null,
            "grid_template_areas": null,
            "grid_template_columns": null,
            "grid_template_rows": null,
            "height": null,
            "justify_content": null,
            "justify_items": null,
            "left": null,
            "margin": null,
            "max_height": null,
            "max_width": null,
            "min_height": null,
            "min_width": null,
            "object_fit": null,
            "object_position": null,
            "order": null,
            "overflow": null,
            "overflow_x": null,
            "overflow_y": null,
            "padding": null,
            "right": null,
            "top": null,
            "visibility": null,
            "width": "20px"
          }
        },
        "85b38d0876db4279a7abe853ae418db3": {
          "model_module": "@jupyter-widgets/controls",
          "model_name": "ProgressStyleModel",
          "model_module_version": "1.5.0",
          "state": {
            "_model_module": "@jupyter-widgets/controls",
            "_model_module_version": "1.5.0",
            "_model_name": "ProgressStyleModel",
            "_view_count": null,
            "_view_module": "@jupyter-widgets/base",
            "_view_module_version": "1.2.0",
            "_view_name": "StyleView",
            "bar_color": null,
            "description_width": ""
          }
        },
        "394b7fa837b142e7ba9ee43ddbb19648": {
          "model_module": "@jupyter-widgets/base",
          "model_name": "LayoutModel",
          "model_module_version": "1.2.0",
          "state": {
            "_model_module": "@jupyter-widgets/base",
            "_model_module_version": "1.2.0",
            "_model_name": "LayoutModel",
            "_view_count": null,
            "_view_module": "@jupyter-widgets/base",
            "_view_module_version": "1.2.0",
            "_view_name": "LayoutView",
            "align_content": null,
            "align_items": null,
            "align_self": null,
            "border": null,
            "bottom": null,
            "display": null,
            "flex": null,
            "flex_flow": null,
            "grid_area": null,
            "grid_auto_columns": null,
            "grid_auto_flow": null,
            "grid_auto_rows": null,
            "grid_column": null,
            "grid_gap": null,
            "grid_row": null,
            "grid_template_areas": null,
            "grid_template_columns": null,
            "grid_template_rows": null,
            "height": null,
            "justify_content": null,
            "justify_items": null,
            "left": null,
            "margin": null,
            "max_height": null,
            "max_width": null,
            "min_height": null,
            "min_width": null,
            "object_fit": null,
            "object_position": null,
            "order": null,
            "overflow": null,
            "overflow_x": null,
            "overflow_y": null,
            "padding": null,
            "right": null,
            "top": null,
            "visibility": null,
            "width": null
          }
        },
        "c8f28f25faed4b07a024d490851dde5d": {
          "model_module": "@jupyter-widgets/controls",
          "model_name": "DescriptionStyleModel",
          "model_module_version": "1.5.0",
          "state": {
            "_model_module": "@jupyter-widgets/controls",
            "_model_module_version": "1.5.0",
            "_model_name": "DescriptionStyleModel",
            "_view_count": null,
            "_view_module": "@jupyter-widgets/base",
            "_view_module_version": "1.2.0",
            "_view_name": "StyleView",
            "description_width": ""
          }
        },
        "a438e39376744743870ea3af04dd18cd": {
          "model_module": "@jupyter-widgets/controls",
          "model_name": "HBoxModel",
          "model_module_version": "1.5.0",
          "state": {
            "_dom_classes": [],
            "_model_module": "@jupyter-widgets/controls",
            "_model_module_version": "1.5.0",
            "_model_name": "HBoxModel",
            "_view_count": null,
            "_view_module": "@jupyter-widgets/controls",
            "_view_module_version": "1.5.0",
            "_view_name": "HBoxView",
            "box_style": "",
            "children": [
              "IPY_MODEL_c1119ba482bd4752b01f486389084924",
              "IPY_MODEL_bdbeb83ca60946809d15466a1880a0c0",
              "IPY_MODEL_3414939879d24467b0620a66bf5cb0c0"
            ],
            "layout": "IPY_MODEL_8e382a180b9b4225b6a593ea135b04df"
          }
        },
        "c1119ba482bd4752b01f486389084924": {
          "model_module": "@jupyter-widgets/controls",
          "model_name": "HTMLModel",
          "model_module_version": "1.5.0",
          "state": {
            "_dom_classes": [],
            "_model_module": "@jupyter-widgets/controls",
            "_model_module_version": "1.5.0",
            "_model_name": "HTMLModel",
            "_view_count": null,
            "_view_module": "@jupyter-widgets/controls",
            "_view_module_version": "1.5.0",
            "_view_name": "HTMLView",
            "description": "",
            "description_tooltip": null,
            "layout": "IPY_MODEL_92807a4ab3704d3e8c6e3c03cbfdb8ab",
            "placeholder": "​",
            "style": "IPY_MODEL_c488f63954d24e0f9a2823a7472ede80",
            "value": "tokenizer.json: "
          }
        },
        "bdbeb83ca60946809d15466a1880a0c0": {
          "model_module": "@jupyter-widgets/controls",
          "model_name": "FloatProgressModel",
          "model_module_version": "1.5.0",
          "state": {
            "_dom_classes": [],
            "_model_module": "@jupyter-widgets/controls",
            "_model_module_version": "1.5.0",
            "_model_name": "FloatProgressModel",
            "_view_count": null,
            "_view_module": "@jupyter-widgets/controls",
            "_view_module_version": "1.5.0",
            "_view_name": "ProgressView",
            "bar_style": "success",
            "description": "",
            "description_tooltip": null,
            "layout": "IPY_MODEL_ca12fd9d8243425a8975ee213be4a3cb",
            "max": 1,
            "min": 0,
            "orientation": "horizontal",
            "style": "IPY_MODEL_3a249e9f39ab495bb69d2f5497e3316d",
            "value": 1
          }
        },
        "3414939879d24467b0620a66bf5cb0c0": {
          "model_module": "@jupyter-widgets/controls",
          "model_name": "HTMLModel",
          "model_module_version": "1.5.0",
          "state": {
            "_dom_classes": [],
            "_model_module": "@jupyter-widgets/controls",
            "_model_module_version": "1.5.0",
            "_model_name": "HTMLModel",
            "_view_count": null,
            "_view_module": "@jupyter-widgets/controls",
            "_view_module_version": "1.5.0",
            "_view_name": "HTMLView",
            "description": "",
            "description_tooltip": null,
            "layout": "IPY_MODEL_c8c36d045f1343698a7301e3808c5715",
            "placeholder": "​",
            "style": "IPY_MODEL_d431370b6c8f47f8bccc82ad974a0990",
            "value": " 1.36M/? [00:00&lt;00:00, 14.7MB/s]"
          }
        },
        "8e382a180b9b4225b6a593ea135b04df": {
          "model_module": "@jupyter-widgets/base",
          "model_name": "LayoutModel",
          "model_module_version": "1.2.0",
          "state": {
            "_model_module": "@jupyter-widgets/base",
            "_model_module_version": "1.2.0",
            "_model_name": "LayoutModel",
            "_view_count": null,
            "_view_module": "@jupyter-widgets/base",
            "_view_module_version": "1.2.0",
            "_view_name": "LayoutView",
            "align_content": null,
            "align_items": null,
            "align_self": null,
            "border": null,
            "bottom": null,
            "display": null,
            "flex": null,
            "flex_flow": null,
            "grid_area": null,
            "grid_auto_columns": null,
            "grid_auto_flow": null,
            "grid_auto_rows": null,
            "grid_column": null,
            "grid_gap": null,
            "grid_row": null,
            "grid_template_areas": null,
            "grid_template_columns": null,
            "grid_template_rows": null,
            "height": null,
            "justify_content": null,
            "justify_items": null,
            "left": null,
            "margin": null,
            "max_height": null,
            "max_width": null,
            "min_height": null,
            "min_width": null,
            "object_fit": null,
            "object_position": null,
            "order": null,
            "overflow": null,
            "overflow_x": null,
            "overflow_y": null,
            "padding": null,
            "right": null,
            "top": null,
            "visibility": null,
            "width": null
          }
        },
        "92807a4ab3704d3e8c6e3c03cbfdb8ab": {
          "model_module": "@jupyter-widgets/base",
          "model_name": "LayoutModel",
          "model_module_version": "1.2.0",
          "state": {
            "_model_module": "@jupyter-widgets/base",
            "_model_module_version": "1.2.0",
            "_model_name": "LayoutModel",
            "_view_count": null,
            "_view_module": "@jupyter-widgets/base",
            "_view_module_version": "1.2.0",
            "_view_name": "LayoutView",
            "align_content": null,
            "align_items": null,
            "align_self": null,
            "border": null,
            "bottom": null,
            "display": null,
            "flex": null,
            "flex_flow": null,
            "grid_area": null,
            "grid_auto_columns": null,
            "grid_auto_flow": null,
            "grid_auto_rows": null,
            "grid_column": null,
            "grid_gap": null,
            "grid_row": null,
            "grid_template_areas": null,
            "grid_template_columns": null,
            "grid_template_rows": null,
            "height": null,
            "justify_content": null,
            "justify_items": null,
            "left": null,
            "margin": null,
            "max_height": null,
            "max_width": null,
            "min_height": null,
            "min_width": null,
            "object_fit": null,
            "object_position": null,
            "order": null,
            "overflow": null,
            "overflow_x": null,
            "overflow_y": null,
            "padding": null,
            "right": null,
            "top": null,
            "visibility": null,
            "width": null
          }
        },
        "c488f63954d24e0f9a2823a7472ede80": {
          "model_module": "@jupyter-widgets/controls",
          "model_name": "DescriptionStyleModel",
          "model_module_version": "1.5.0",
          "state": {
            "_model_module": "@jupyter-widgets/controls",
            "_model_module_version": "1.5.0",
            "_model_name": "DescriptionStyleModel",
            "_view_count": null,
            "_view_module": "@jupyter-widgets/base",
            "_view_module_version": "1.2.0",
            "_view_name": "StyleView",
            "description_width": ""
          }
        },
        "ca12fd9d8243425a8975ee213be4a3cb": {
          "model_module": "@jupyter-widgets/base",
          "model_name": "LayoutModel",
          "model_module_version": "1.2.0",
          "state": {
            "_model_module": "@jupyter-widgets/base",
            "_model_module_version": "1.2.0",
            "_model_name": "LayoutModel",
            "_view_count": null,
            "_view_module": "@jupyter-widgets/base",
            "_view_module_version": "1.2.0",
            "_view_name": "LayoutView",
            "align_content": null,
            "align_items": null,
            "align_self": null,
            "border": null,
            "bottom": null,
            "display": null,
            "flex": null,
            "flex_flow": null,
            "grid_area": null,
            "grid_auto_columns": null,
            "grid_auto_flow": null,
            "grid_auto_rows": null,
            "grid_column": null,
            "grid_gap": null,
            "grid_row": null,
            "grid_template_areas": null,
            "grid_template_columns": null,
            "grid_template_rows": null,
            "height": null,
            "justify_content": null,
            "justify_items": null,
            "left": null,
            "margin": null,
            "max_height": null,
            "max_width": null,
            "min_height": null,
            "min_width": null,
            "object_fit": null,
            "object_position": null,
            "order": null,
            "overflow": null,
            "overflow_x": null,
            "overflow_y": null,
            "padding": null,
            "right": null,
            "top": null,
            "visibility": null,
            "width": "20px"
          }
        },
        "3a249e9f39ab495bb69d2f5497e3316d": {
          "model_module": "@jupyter-widgets/controls",
          "model_name": "ProgressStyleModel",
          "model_module_version": "1.5.0",
          "state": {
            "_model_module": "@jupyter-widgets/controls",
            "_model_module_version": "1.5.0",
            "_model_name": "ProgressStyleModel",
            "_view_count": null,
            "_view_module": "@jupyter-widgets/base",
            "_view_module_version": "1.2.0",
            "_view_name": "StyleView",
            "bar_color": null,
            "description_width": ""
          }
        },
        "c8c36d045f1343698a7301e3808c5715": {
          "model_module": "@jupyter-widgets/base",
          "model_name": "LayoutModel",
          "model_module_version": "1.2.0",
          "state": {
            "_model_module": "@jupyter-widgets/base",
            "_model_module_version": "1.2.0",
            "_model_name": "LayoutModel",
            "_view_count": null,
            "_view_module": "@jupyter-widgets/base",
            "_view_module_version": "1.2.0",
            "_view_name": "LayoutView",
            "align_content": null,
            "align_items": null,
            "align_self": null,
            "border": null,
            "bottom": null,
            "display": null,
            "flex": null,
            "flex_flow": null,
            "grid_area": null,
            "grid_auto_columns": null,
            "grid_auto_flow": null,
            "grid_auto_rows": null,
            "grid_column": null,
            "grid_gap": null,
            "grid_row": null,
            "grid_template_areas": null,
            "grid_template_columns": null,
            "grid_template_rows": null,
            "height": null,
            "justify_content": null,
            "justify_items": null,
            "left": null,
            "margin": null,
            "max_height": null,
            "max_width": null,
            "min_height": null,
            "min_width": null,
            "object_fit": null,
            "object_position": null,
            "order": null,
            "overflow": null,
            "overflow_x": null,
            "overflow_y": null,
            "padding": null,
            "right": null,
            "top": null,
            "visibility": null,
            "width": null
          }
        },
        "d431370b6c8f47f8bccc82ad974a0990": {
          "model_module": "@jupyter-widgets/controls",
          "model_name": "DescriptionStyleModel",
          "model_module_version": "1.5.0",
          "state": {
            "_model_module": "@jupyter-widgets/controls",
            "_model_module_version": "1.5.0",
            "_model_name": "DescriptionStyleModel",
            "_view_count": null,
            "_view_module": "@jupyter-widgets/base",
            "_view_module_version": "1.2.0",
            "_view_name": "StyleView",
            "description_width": ""
          }
        },
        "4db03923e3cd419aad4159de156c2857": {
          "model_module": "@jupyter-widgets/controls",
          "model_name": "HBoxModel",
          "model_module_version": "1.5.0",
          "state": {
            "_dom_classes": [],
            "_model_module": "@jupyter-widgets/controls",
            "_model_module_version": "1.5.0",
            "_model_name": "HBoxModel",
            "_view_count": null,
            "_view_module": "@jupyter-widgets/controls",
            "_view_module_version": "1.5.0",
            "_view_name": "HBoxView",
            "box_style": "",
            "children": [
              "IPY_MODEL_da4b998ca8924c88863b5e8acf1f9e9e",
              "IPY_MODEL_72ecf7a514ff440eaa1b29ae55eab7db",
              "IPY_MODEL_f1515f17327e43aca3149da04e20b8bd"
            ],
            "layout": "IPY_MODEL_539a6f37857b41c3944ee8088e11beae"
          }
        },
        "da4b998ca8924c88863b5e8acf1f9e9e": {
          "model_module": "@jupyter-widgets/controls",
          "model_name": "HTMLModel",
          "model_module_version": "1.5.0",
          "state": {
            "_dom_classes": [],
            "_model_module": "@jupyter-widgets/controls",
            "_model_module_version": "1.5.0",
            "_model_name": "HTMLModel",
            "_view_count": null,
            "_view_module": "@jupyter-widgets/controls",
            "_view_module_version": "1.5.0",
            "_view_name": "HTMLView",
            "description": "",
            "description_tooltip": null,
            "layout": "IPY_MODEL_f6a36ccba1cd4e008fe3a65709d4003f",
            "placeholder": "​",
            "style": "IPY_MODEL_c14ffeff2e674b65bfaccf1826b475fa",
            "value": "config.json: "
          }
        },
        "72ecf7a514ff440eaa1b29ae55eab7db": {
          "model_module": "@jupyter-widgets/controls",
          "model_name": "FloatProgressModel",
          "model_module_version": "1.5.0",
          "state": {
            "_dom_classes": [],
            "_model_module": "@jupyter-widgets/controls",
            "_model_module_version": "1.5.0",
            "_model_name": "FloatProgressModel",
            "_view_count": null,
            "_view_module": "@jupyter-widgets/controls",
            "_view_module_version": "1.5.0",
            "_view_name": "ProgressView",
            "bar_style": "success",
            "description": "",
            "description_tooltip": null,
            "layout": "IPY_MODEL_2b83c71b63e24870842c94584c9fdbe1",
            "max": 1,
            "min": 0,
            "orientation": "horizontal",
            "style": "IPY_MODEL_a43dda0d3f0b46bba7152aaaeb906e63",
            "value": 1
          }
        },
        "f1515f17327e43aca3149da04e20b8bd": {
          "model_module": "@jupyter-widgets/controls",
          "model_name": "HTMLModel",
          "model_module_version": "1.5.0",
          "state": {
            "_dom_classes": [],
            "_model_module": "@jupyter-widgets/controls",
            "_model_module_version": "1.5.0",
            "_model_name": "HTMLModel",
            "_view_count": null,
            "_view_module": "@jupyter-widgets/controls",
            "_view_module_version": "1.5.0",
            "_view_name": "HTMLView",
            "description": "",
            "description_tooltip": null,
            "layout": "IPY_MODEL_010d60e2190049e8b0648221e13a4c62",
            "placeholder": "​",
            "style": "IPY_MODEL_6083cc0cd2cc4f84bf63629aa3bb5f20",
            "value": " 1.72k/? [00:00&lt;00:00, 160kB/s]"
          }
        },
        "539a6f37857b41c3944ee8088e11beae": {
          "model_module": "@jupyter-widgets/base",
          "model_name": "LayoutModel",
          "model_module_version": "1.2.0",
          "state": {
            "_model_module": "@jupyter-widgets/base",
            "_model_module_version": "1.2.0",
            "_model_name": "LayoutModel",
            "_view_count": null,
            "_view_module": "@jupyter-widgets/base",
            "_view_module_version": "1.2.0",
            "_view_name": "LayoutView",
            "align_content": null,
            "align_items": null,
            "align_self": null,
            "border": null,
            "bottom": null,
            "display": null,
            "flex": null,
            "flex_flow": null,
            "grid_area": null,
            "grid_auto_columns": null,
            "grid_auto_flow": null,
            "grid_auto_rows": null,
            "grid_column": null,
            "grid_gap": null,
            "grid_row": null,
            "grid_template_areas": null,
            "grid_template_columns": null,
            "grid_template_rows": null,
            "height": null,
            "justify_content": null,
            "justify_items": null,
            "left": null,
            "margin": null,
            "max_height": null,
            "max_width": null,
            "min_height": null,
            "min_width": null,
            "object_fit": null,
            "object_position": null,
            "order": null,
            "overflow": null,
            "overflow_x": null,
            "overflow_y": null,
            "padding": null,
            "right": null,
            "top": null,
            "visibility": null,
            "width": null
          }
        },
        "f6a36ccba1cd4e008fe3a65709d4003f": {
          "model_module": "@jupyter-widgets/base",
          "model_name": "LayoutModel",
          "model_module_version": "1.2.0",
          "state": {
            "_model_module": "@jupyter-widgets/base",
            "_model_module_version": "1.2.0",
            "_model_name": "LayoutModel",
            "_view_count": null,
            "_view_module": "@jupyter-widgets/base",
            "_view_module_version": "1.2.0",
            "_view_name": "LayoutView",
            "align_content": null,
            "align_items": null,
            "align_self": null,
            "border": null,
            "bottom": null,
            "display": null,
            "flex": null,
            "flex_flow": null,
            "grid_area": null,
            "grid_auto_columns": null,
            "grid_auto_flow": null,
            "grid_auto_rows": null,
            "grid_column": null,
            "grid_gap": null,
            "grid_row": null,
            "grid_template_areas": null,
            "grid_template_columns": null,
            "grid_template_rows": null,
            "height": null,
            "justify_content": null,
            "justify_items": null,
            "left": null,
            "margin": null,
            "max_height": null,
            "max_width": null,
            "min_height": null,
            "min_width": null,
            "object_fit": null,
            "object_position": null,
            "order": null,
            "overflow": null,
            "overflow_x": null,
            "overflow_y": null,
            "padding": null,
            "right": null,
            "top": null,
            "visibility": null,
            "width": null
          }
        },
        "c14ffeff2e674b65bfaccf1826b475fa": {
          "model_module": "@jupyter-widgets/controls",
          "model_name": "DescriptionStyleModel",
          "model_module_version": "1.5.0",
          "state": {
            "_model_module": "@jupyter-widgets/controls",
            "_model_module_version": "1.5.0",
            "_model_name": "DescriptionStyleModel",
            "_view_count": null,
            "_view_module": "@jupyter-widgets/base",
            "_view_module_version": "1.2.0",
            "_view_name": "StyleView",
            "description_width": ""
          }
        },
        "2b83c71b63e24870842c94584c9fdbe1": {
          "model_module": "@jupyter-widgets/base",
          "model_name": "LayoutModel",
          "model_module_version": "1.2.0",
          "state": {
            "_model_module": "@jupyter-widgets/base",
            "_model_module_version": "1.2.0",
            "_model_name": "LayoutModel",
            "_view_count": null,
            "_view_module": "@jupyter-widgets/base",
            "_view_module_version": "1.2.0",
            "_view_name": "LayoutView",
            "align_content": null,
            "align_items": null,
            "align_self": null,
            "border": null,
            "bottom": null,
            "display": null,
            "flex": null,
            "flex_flow": null,
            "grid_area": null,
            "grid_auto_columns": null,
            "grid_auto_flow": null,
            "grid_auto_rows": null,
            "grid_column": null,
            "grid_gap": null,
            "grid_row": null,
            "grid_template_areas": null,
            "grid_template_columns": null,
            "grid_template_rows": null,
            "height": null,
            "justify_content": null,
            "justify_items": null,
            "left": null,
            "margin": null,
            "max_height": null,
            "max_width": null,
            "min_height": null,
            "min_width": null,
            "object_fit": null,
            "object_position": null,
            "order": null,
            "overflow": null,
            "overflow_x": null,
            "overflow_y": null,
            "padding": null,
            "right": null,
            "top": null,
            "visibility": null,
            "width": "20px"
          }
        },
        "a43dda0d3f0b46bba7152aaaeb906e63": {
          "model_module": "@jupyter-widgets/controls",
          "model_name": "ProgressStyleModel",
          "model_module_version": "1.5.0",
          "state": {
            "_model_module": "@jupyter-widgets/controls",
            "_model_module_version": "1.5.0",
            "_model_name": "ProgressStyleModel",
            "_view_count": null,
            "_view_module": "@jupyter-widgets/base",
            "_view_module_version": "1.2.0",
            "_view_name": "StyleView",
            "bar_color": null,
            "description_width": ""
          }
        },
        "010d60e2190049e8b0648221e13a4c62": {
          "model_module": "@jupyter-widgets/base",
          "model_name": "LayoutModel",
          "model_module_version": "1.2.0",
          "state": {
            "_model_module": "@jupyter-widgets/base",
            "_model_module_version": "1.2.0",
            "_model_name": "LayoutModel",
            "_view_count": null,
            "_view_module": "@jupyter-widgets/base",
            "_view_module_version": "1.2.0",
            "_view_name": "LayoutView",
            "align_content": null,
            "align_items": null,
            "align_self": null,
            "border": null,
            "bottom": null,
            "display": null,
            "flex": null,
            "flex_flow": null,
            "grid_area": null,
            "grid_auto_columns": null,
            "grid_auto_flow": null,
            "grid_auto_rows": null,
            "grid_column": null,
            "grid_gap": null,
            "grid_row": null,
            "grid_template_areas": null,
            "grid_template_columns": null,
            "grid_template_rows": null,
            "height": null,
            "justify_content": null,
            "justify_items": null,
            "left": null,
            "margin": null,
            "max_height": null,
            "max_width": null,
            "min_height": null,
            "min_width": null,
            "object_fit": null,
            "object_position": null,
            "order": null,
            "overflow": null,
            "overflow_x": null,
            "overflow_y": null,
            "padding": null,
            "right": null,
            "top": null,
            "visibility": null,
            "width": null
          }
        },
        "6083cc0cd2cc4f84bf63629aa3bb5f20": {
          "model_module": "@jupyter-widgets/controls",
          "model_name": "DescriptionStyleModel",
          "model_module_version": "1.5.0",
          "state": {
            "_model_module": "@jupyter-widgets/controls",
            "_model_module_version": "1.5.0",
            "_model_name": "DescriptionStyleModel",
            "_view_count": null,
            "_view_module": "@jupyter-widgets/base",
            "_view_module_version": "1.2.0",
            "_view_name": "StyleView",
            "description_width": ""
          }
        },
        "37a25a5bde93407099fc8f2fac6ba3c7": {
          "model_module": "@jupyter-widgets/controls",
          "model_name": "HBoxModel",
          "model_module_version": "1.5.0",
          "state": {
            "_dom_classes": [],
            "_model_module": "@jupyter-widgets/controls",
            "_model_module_version": "1.5.0",
            "_model_name": "HBoxModel",
            "_view_count": null,
            "_view_module": "@jupyter-widgets/controls",
            "_view_module_version": "1.5.0",
            "_view_name": "HBoxView",
            "box_style": "",
            "children": [
              "IPY_MODEL_f2e625439802439aab4f22ccd028ca55",
              "IPY_MODEL_8e11896edc064253aa18b816fe02c11d",
              "IPY_MODEL_2a63f6d285d7467d9d98753b0dfa536c"
            ],
            "layout": "IPY_MODEL_fa3e9280ea614c35802e5645a244164d"
          }
        },
        "f2e625439802439aab4f22ccd028ca55": {
          "model_module": "@jupyter-widgets/controls",
          "model_name": "HTMLModel",
          "model_module_version": "1.5.0",
          "state": {
            "_dom_classes": [],
            "_model_module": "@jupyter-widgets/controls",
            "_model_module_version": "1.5.0",
            "_model_name": "HTMLModel",
            "_view_count": null,
            "_view_module": "@jupyter-widgets/controls",
            "_view_module_version": "1.5.0",
            "_view_name": "HTMLView",
            "description": "",
            "description_tooltip": null,
            "layout": "IPY_MODEL_9850cb5baa9948f7b248440a677844f4",
            "placeholder": "​",
            "style": "IPY_MODEL_d0c921aadab24aef920a0913c768dd97",
            "value": "model.safetensors: 100%"
          }
        },
        "8e11896edc064253aa18b816fe02c11d": {
          "model_module": "@jupyter-widgets/controls",
          "model_name": "FloatProgressModel",
          "model_module_version": "1.5.0",
          "state": {
            "_dom_classes": [],
            "_model_module": "@jupyter-widgets/controls",
            "_model_module_version": "1.5.0",
            "_model_name": "FloatProgressModel",
            "_view_count": null,
            "_view_module": "@jupyter-widgets/controls",
            "_view_module_version": "1.5.0",
            "_view_name": "ProgressView",
            "bar_style": "success",
            "description": "",
            "description_tooltip": null,
            "layout": "IPY_MODEL_60ac330648c34f4fa06c0cf02f63bf9e",
            "max": 557709915,
            "min": 0,
            "orientation": "horizontal",
            "style": "IPY_MODEL_4ab6beabebc74fd4b306f805d6b7d32d",
            "value": 557709915
          }
        },
        "2a63f6d285d7467d9d98753b0dfa536c": {
          "model_module": "@jupyter-widgets/controls",
          "model_name": "HTMLModel",
          "model_module_version": "1.5.0",
          "state": {
            "_dom_classes": [],
            "_model_module": "@jupyter-widgets/controls",
            "_model_module_version": "1.5.0",
            "_model_name": "HTMLModel",
            "_view_count": null,
            "_view_module": "@jupyter-widgets/controls",
            "_view_module_version": "1.5.0",
            "_view_name": "HTMLView",
            "description": "",
            "description_tooltip": null,
            "layout": "IPY_MODEL_3ecfa5dd79194d16959384fd5ff6082b",
            "placeholder": "​",
            "style": "IPY_MODEL_7a7ec2e6061f4f43aa279926e8769307",
            "value": " 558M/558M [00:10&lt;00:00, 78.4MB/s]"
          }
        },
        "fa3e9280ea614c35802e5645a244164d": {
          "model_module": "@jupyter-widgets/base",
          "model_name": "LayoutModel",
          "model_module_version": "1.2.0",
          "state": {
            "_model_module": "@jupyter-widgets/base",
            "_model_module_version": "1.2.0",
            "_model_name": "LayoutModel",
            "_view_count": null,
            "_view_module": "@jupyter-widgets/base",
            "_view_module_version": "1.2.0",
            "_view_name": "LayoutView",
            "align_content": null,
            "align_items": null,
            "align_self": null,
            "border": null,
            "bottom": null,
            "display": null,
            "flex": null,
            "flex_flow": null,
            "grid_area": null,
            "grid_auto_columns": null,
            "grid_auto_flow": null,
            "grid_auto_rows": null,
            "grid_column": null,
            "grid_gap": null,
            "grid_row": null,
            "grid_template_areas": null,
            "grid_template_columns": null,
            "grid_template_rows": null,
            "height": null,
            "justify_content": null,
            "justify_items": null,
            "left": null,
            "margin": null,
            "max_height": null,
            "max_width": null,
            "min_height": null,
            "min_width": null,
            "object_fit": null,
            "object_position": null,
            "order": null,
            "overflow": null,
            "overflow_x": null,
            "overflow_y": null,
            "padding": null,
            "right": null,
            "top": null,
            "visibility": null,
            "width": null
          }
        },
        "9850cb5baa9948f7b248440a677844f4": {
          "model_module": "@jupyter-widgets/base",
          "model_name": "LayoutModel",
          "model_module_version": "1.2.0",
          "state": {
            "_model_module": "@jupyter-widgets/base",
            "_model_module_version": "1.2.0",
            "_model_name": "LayoutModel",
            "_view_count": null,
            "_view_module": "@jupyter-widgets/base",
            "_view_module_version": "1.2.0",
            "_view_name": "LayoutView",
            "align_content": null,
            "align_items": null,
            "align_self": null,
            "border": null,
            "bottom": null,
            "display": null,
            "flex": null,
            "flex_flow": null,
            "grid_area": null,
            "grid_auto_columns": null,
            "grid_auto_flow": null,
            "grid_auto_rows": null,
            "grid_column": null,
            "grid_gap": null,
            "grid_row": null,
            "grid_template_areas": null,
            "grid_template_columns": null,
            "grid_template_rows": null,
            "height": null,
            "justify_content": null,
            "justify_items": null,
            "left": null,
            "margin": null,
            "max_height": null,
            "max_width": null,
            "min_height": null,
            "min_width": null,
            "object_fit": null,
            "object_position": null,
            "order": null,
            "overflow": null,
            "overflow_x": null,
            "overflow_y": null,
            "padding": null,
            "right": null,
            "top": null,
            "visibility": null,
            "width": null
          }
        },
        "d0c921aadab24aef920a0913c768dd97": {
          "model_module": "@jupyter-widgets/controls",
          "model_name": "DescriptionStyleModel",
          "model_module_version": "1.5.0",
          "state": {
            "_model_module": "@jupyter-widgets/controls",
            "_model_module_version": "1.5.0",
            "_model_name": "DescriptionStyleModel",
            "_view_count": null,
            "_view_module": "@jupyter-widgets/base",
            "_view_module_version": "1.2.0",
            "_view_name": "StyleView",
            "description_width": ""
          }
        },
        "60ac330648c34f4fa06c0cf02f63bf9e": {
          "model_module": "@jupyter-widgets/base",
          "model_name": "LayoutModel",
          "model_module_version": "1.2.0",
          "state": {
            "_model_module": "@jupyter-widgets/base",
            "_model_module_version": "1.2.0",
            "_model_name": "LayoutModel",
            "_view_count": null,
            "_view_module": "@jupyter-widgets/base",
            "_view_module_version": "1.2.0",
            "_view_name": "LayoutView",
            "align_content": null,
            "align_items": null,
            "align_self": null,
            "border": null,
            "bottom": null,
            "display": null,
            "flex": null,
            "flex_flow": null,
            "grid_area": null,
            "grid_auto_columns": null,
            "grid_auto_flow": null,
            "grid_auto_rows": null,
            "grid_column": null,
            "grid_gap": null,
            "grid_row": null,
            "grid_template_areas": null,
            "grid_template_columns": null,
            "grid_template_rows": null,
            "height": null,
            "justify_content": null,
            "justify_items": null,
            "left": null,
            "margin": null,
            "max_height": null,
            "max_width": null,
            "min_height": null,
            "min_width": null,
            "object_fit": null,
            "object_position": null,
            "order": null,
            "overflow": null,
            "overflow_x": null,
            "overflow_y": null,
            "padding": null,
            "right": null,
            "top": null,
            "visibility": null,
            "width": null
          }
        },
        "4ab6beabebc74fd4b306f805d6b7d32d": {
          "model_module": "@jupyter-widgets/controls",
          "model_name": "ProgressStyleModel",
          "model_module_version": "1.5.0",
          "state": {
            "_model_module": "@jupyter-widgets/controls",
            "_model_module_version": "1.5.0",
            "_model_name": "ProgressStyleModel",
            "_view_count": null,
            "_view_module": "@jupyter-widgets/base",
            "_view_module_version": "1.2.0",
            "_view_name": "StyleView",
            "bar_color": null,
            "description_width": ""
          }
        },
        "3ecfa5dd79194d16959384fd5ff6082b": {
          "model_module": "@jupyter-widgets/base",
          "model_name": "LayoutModel",
          "model_module_version": "1.2.0",
          "state": {
            "_model_module": "@jupyter-widgets/base",
            "_model_module_version": "1.2.0",
            "_model_name": "LayoutModel",
            "_view_count": null,
            "_view_module": "@jupyter-widgets/base",
            "_view_module_version": "1.2.0",
            "_view_name": "LayoutView",
            "align_content": null,
            "align_items": null,
            "align_self": null,
            "border": null,
            "bottom": null,
            "display": null,
            "flex": null,
            "flex_flow": null,
            "grid_area": null,
            "grid_auto_columns": null,
            "grid_auto_flow": null,
            "grid_auto_rows": null,
            "grid_column": null,
            "grid_gap": null,
            "grid_row": null,
            "grid_template_areas": null,
            "grid_template_columns": null,
            "grid_template_rows": null,
            "height": null,
            "justify_content": null,
            "justify_items": null,
            "left": null,
            "margin": null,
            "max_height": null,
            "max_width": null,
            "min_height": null,
            "min_width": null,
            "object_fit": null,
            "object_position": null,
            "order": null,
            "overflow": null,
            "overflow_x": null,
            "overflow_y": null,
            "padding": null,
            "right": null,
            "top": null,
            "visibility": null,
            "width": null
          }
        },
        "7a7ec2e6061f4f43aa279926e8769307": {
          "model_module": "@jupyter-widgets/controls",
          "model_name": "DescriptionStyleModel",
          "model_module_version": "1.5.0",
          "state": {
            "_model_module": "@jupyter-widgets/controls",
            "_model_module_version": "1.5.0",
            "_model_name": "DescriptionStyleModel",
            "_view_count": null,
            "_view_module": "@jupyter-widgets/base",
            "_view_module_version": "1.2.0",
            "_view_name": "StyleView",
            "description_width": ""
          }
        }
      }
    }
  },
  "cells": [
    {
      "cell_type": "markdown",
      "metadata": {
        "id": "view-in-github",
        "colab_type": "text"
      },
      "source": [
        "<a href=\"https://colab.research.google.com/github/Jeyharshini10/Infosys_Springboard/blob/main/milestone1.ipynb\" target=\"_parent\"><img src=\"https://colab.research.google.com/assets/colab-badge.svg\" alt=\"Open In Colab\"/></a>"
      ]
    },
    {
      "cell_type": "code",
      "execution_count": null,
      "metadata": {
        "colab": {
          "base_uri": "https://localhost:8080/"
        },
        "id": "xJhmoNRXzUsw",
        "outputId": "58cd3e13-c6bb-4a31-9d0b-40b614d30adb"
      },
      "outputs": [
        {
          "output_type": "stream",
          "name": "stdout",
          "text": [
            "Mon Sep 29 09:40:01 2025       \n",
            "+-----------------------------------------------------------------------------------------+\n",
            "| NVIDIA-SMI 550.54.15              Driver Version: 550.54.15      CUDA Version: 12.4     |\n",
            "|-----------------------------------------+------------------------+----------------------+\n",
            "| GPU  Name                 Persistence-M | Bus-Id          Disp.A | Volatile Uncorr. ECC |\n",
            "| Fan  Temp   Perf          Pwr:Usage/Cap |           Memory-Usage | GPU-Util  Compute M. |\n",
            "|                                         |                        |               MIG M. |\n",
            "|=========================================+========================+======================|\n",
            "|   0  Tesla T4                       Off |   00000000:00:04.0 Off |                    0 |\n",
            "| N/A   39C    P8              9W /   70W |       2MiB /  15360MiB |      0%      Default |\n",
            "|                                         |                        |                  N/A |\n",
            "+-----------------------------------------+------------------------+----------------------+\n",
            "                                                                                         \n",
            "+-----------------------------------------------------------------------------------------+\n",
            "| Processes:                                                                              |\n",
            "|  GPU   GI   CI        PID   Type   Process name                              GPU Memory |\n",
            "|        ID   ID                                                               Usage      |\n",
            "|=========================================================================================|\n",
            "|  No running processes found                                                             |\n",
            "+-----------------------------------------------------------------------------------------+\n"
          ]
        }
      ],
      "source": [
        "!nvidia-smi\n"
      ]
    },
    {
      "cell_type": "code",
      "source": [
        "!pip install transformers datasets sentencepiece rouge-score\n",
        "!pip install nltk\n"
      ],
      "metadata": {
        "colab": {
          "base_uri": "https://localhost:8080/"
        },
        "id": "00dNdwsG1XQW",
        "outputId": "c5b6b04b-43e0-4805-f763-88bb6b770a3f"
      },
      "execution_count": null,
      "outputs": [
        {
          "output_type": "stream",
          "name": "stdout",
          "text": [
            "Requirement already satisfied: transformers in /usr/local/lib/python3.12/dist-packages (4.56.1)\n",
            "Requirement already satisfied: datasets in /usr/local/lib/python3.12/dist-packages (4.0.0)\n",
            "Requirement already satisfied: sentencepiece in /usr/local/lib/python3.12/dist-packages (0.2.1)\n",
            "Requirement already satisfied: rouge-score in /usr/local/lib/python3.12/dist-packages (0.1.2)\n",
            "Requirement already satisfied: filelock in /usr/local/lib/python3.12/dist-packages (from transformers) (3.19.1)\n",
            "Requirement already satisfied: huggingface-hub<1.0,>=0.34.0 in /usr/local/lib/python3.12/dist-packages (from transformers) (0.35.0)\n",
            "Requirement already satisfied: numpy>=1.17 in /usr/local/lib/python3.12/dist-packages (from transformers) (2.0.2)\n",
            "Requirement already satisfied: packaging>=20.0 in /usr/local/lib/python3.12/dist-packages (from transformers) (25.0)\n",
            "Requirement already satisfied: pyyaml>=5.1 in /usr/local/lib/python3.12/dist-packages (from transformers) (6.0.2)\n",
            "Requirement already satisfied: regex!=2019.12.17 in /usr/local/lib/python3.12/dist-packages (from transformers) (2024.11.6)\n",
            "Requirement already satisfied: requests in /usr/local/lib/python3.12/dist-packages (from transformers) (2.32.4)\n",
            "Requirement already satisfied: tokenizers<=0.23.0,>=0.22.0 in /usr/local/lib/python3.12/dist-packages (from transformers) (0.22.0)\n",
            "Requirement already satisfied: safetensors>=0.4.3 in /usr/local/lib/python3.12/dist-packages (from transformers) (0.6.2)\n",
            "Requirement already satisfied: tqdm>=4.27 in /usr/local/lib/python3.12/dist-packages (from transformers) (4.67.1)\n",
            "Requirement already satisfied: pyarrow>=15.0.0 in /usr/local/lib/python3.12/dist-packages (from datasets) (18.1.0)\n",
            "Requirement already satisfied: dill<0.3.9,>=0.3.0 in /usr/local/lib/python3.12/dist-packages (from datasets) (0.3.8)\n",
            "Requirement already satisfied: pandas in /usr/local/lib/python3.12/dist-packages (from datasets) (2.2.2)\n",
            "Requirement already satisfied: xxhash in /usr/local/lib/python3.12/dist-packages (from datasets) (3.5.0)\n",
            "Requirement already satisfied: multiprocess<0.70.17 in /usr/local/lib/python3.12/dist-packages (from datasets) (0.70.16)\n",
            "Requirement already satisfied: fsspec<=2025.3.0,>=2023.1.0 in /usr/local/lib/python3.12/dist-packages (from fsspec[http]<=2025.3.0,>=2023.1.0->datasets) (2025.3.0)\n",
            "Requirement already satisfied: absl-py in /usr/local/lib/python3.12/dist-packages (from rouge-score) (1.4.0)\n",
            "Requirement already satisfied: nltk in /usr/local/lib/python3.12/dist-packages (from rouge-score) (3.9.1)\n",
            "Requirement already satisfied: six>=1.14.0 in /usr/local/lib/python3.12/dist-packages (from rouge-score) (1.17.0)\n",
            "Requirement already satisfied: aiohttp!=4.0.0a0,!=4.0.0a1 in /usr/local/lib/python3.12/dist-packages (from fsspec[http]<=2025.3.0,>=2023.1.0->datasets) (3.12.15)\n",
            "Requirement already satisfied: typing-extensions>=3.7.4.3 in /usr/local/lib/python3.12/dist-packages (from huggingface-hub<1.0,>=0.34.0->transformers) (4.15.0)\n",
            "Requirement already satisfied: hf-xet<2.0.0,>=1.1.3 in /usr/local/lib/python3.12/dist-packages (from huggingface-hub<1.0,>=0.34.0->transformers) (1.1.10)\n",
            "Requirement already satisfied: charset_normalizer<4,>=2 in /usr/local/lib/python3.12/dist-packages (from requests->transformers) (3.4.3)\n",
            "Requirement already satisfied: idna<4,>=2.5 in /usr/local/lib/python3.12/dist-packages (from requests->transformers) (3.10)\n",
            "Requirement already satisfied: urllib3<3,>=1.21.1 in /usr/local/lib/python3.12/dist-packages (from requests->transformers) (2.5.0)\n",
            "Requirement already satisfied: certifi>=2017.4.17 in /usr/local/lib/python3.12/dist-packages (from requests->transformers) (2025.8.3)\n",
            "Requirement already satisfied: click in /usr/local/lib/python3.12/dist-packages (from nltk->rouge-score) (8.2.1)\n",
            "Requirement already satisfied: joblib in /usr/local/lib/python3.12/dist-packages (from nltk->rouge-score) (1.5.2)\n",
            "Requirement already satisfied: python-dateutil>=2.8.2 in /usr/local/lib/python3.12/dist-packages (from pandas->datasets) (2.9.0.post0)\n",
            "Requirement already satisfied: pytz>=2020.1 in /usr/local/lib/python3.12/dist-packages (from pandas->datasets) (2025.2)\n",
            "Requirement already satisfied: tzdata>=2022.7 in /usr/local/lib/python3.12/dist-packages (from pandas->datasets) (2025.2)\n",
            "Requirement already satisfied: aiohappyeyeballs>=2.5.0 in /usr/local/lib/python3.12/dist-packages (from aiohttp!=4.0.0a0,!=4.0.0a1->fsspec[http]<=2025.3.0,>=2023.1.0->datasets) (2.6.1)\n",
            "Requirement already satisfied: aiosignal>=1.4.0 in /usr/local/lib/python3.12/dist-packages (from aiohttp!=4.0.0a0,!=4.0.0a1->fsspec[http]<=2025.3.0,>=2023.1.0->datasets) (1.4.0)\n",
            "Requirement already satisfied: attrs>=17.3.0 in /usr/local/lib/python3.12/dist-packages (from aiohttp!=4.0.0a0,!=4.0.0a1->fsspec[http]<=2025.3.0,>=2023.1.0->datasets) (25.3.0)\n",
            "Requirement already satisfied: frozenlist>=1.1.1 in /usr/local/lib/python3.12/dist-packages (from aiohttp!=4.0.0a0,!=4.0.0a1->fsspec[http]<=2025.3.0,>=2023.1.0->datasets) (1.7.0)\n",
            "Requirement already satisfied: multidict<7.0,>=4.5 in /usr/local/lib/python3.12/dist-packages (from aiohttp!=4.0.0a0,!=4.0.0a1->fsspec[http]<=2025.3.0,>=2023.1.0->datasets) (6.6.4)\n",
            "Requirement already satisfied: propcache>=0.2.0 in /usr/local/lib/python3.12/dist-packages (from aiohttp!=4.0.0a0,!=4.0.0a1->fsspec[http]<=2025.3.0,>=2023.1.0->datasets) (0.3.2)\n",
            "Requirement already satisfied: yarl<2.0,>=1.17.0 in /usr/local/lib/python3.12/dist-packages (from aiohttp!=4.0.0a0,!=4.0.0a1->fsspec[http]<=2025.3.0,>=2023.1.0->datasets) (1.20.1)\n",
            "Requirement already satisfied: nltk in /usr/local/lib/python3.12/dist-packages (3.9.1)\n",
            "Requirement already satisfied: click in /usr/local/lib/python3.12/dist-packages (from nltk) (8.2.1)\n",
            "Requirement already satisfied: joblib in /usr/local/lib/python3.12/dist-packages (from nltk) (1.5.2)\n",
            "Requirement already satisfied: regex>=2021.8.3 in /usr/local/lib/python3.12/dist-packages (from nltk) (2024.11.6)\n",
            "Requirement already satisfied: tqdm in /usr/local/lib/python3.12/dist-packages (from nltk) (4.67.1)\n"
          ]
        }
      ]
    },
    {
      "cell_type": "code",
      "source": [
        "from transformers import T5ForConditionalGeneration, T5Tokenizer\n",
        "from transformers import BartForConditionalGeneration, BartTokenizer\n",
        "from transformers import PegasusForConditionalGeneration, PegasusTokenizer\n",
        "import torch\n",
        "import matplotlib.pyplot as plt\n",
        "import nltk\n",
        "nltk.download('punkt')\n",
        "from nltk.tokenize import sent_tokenize\n"
      ],
      "metadata": {
        "colab": {
          "base_uri": "https://localhost:8080/"
        },
        "id": "tEilbCCJ1er4",
        "outputId": "4efd99cf-8b00-47fc-a90b-a0e7de67cd30"
      },
      "execution_count": null,
      "outputs": [
        {
          "output_type": "stream",
          "name": "stderr",
          "text": [
            "[nltk_data] Downloading package punkt to /root/nltk_data...\n",
            "[nltk_data]   Package punkt is already up-to-date!\n"
          ]
        }
      ]
    },
    {
      "cell_type": "code",
      "source": [
        "import matplotlib.pyplot as plt\n",
        "from collections import Counter\n",
        "import textwrap\n",
        "import re\n",
        "import requests\n",
        "import ssl\n",
        "from transformers import T5ForConditionalGeneration, T5Tokenizer\n",
        "from transformers import BartForConditionalGeneration, BartTokenizer\n",
        "from transformers import PegasusForConditionalGeneration, PegasusTokenizer\n",
        "from sentence_transformers import SentenceTransformer\n",
        "from sklearn.metrics.pairwise import cosine_similarity\n",
        "\n",
        "\n",
        "try:\n",
        "    _create_unverified_https_context = ssl._create_unverified_context\n",
        "except AttributeError:\n",
        "    pass\n",
        "else:\n",
        "    ssl._create_default_https_context = _create_unverified_https_context\n",
        "\n",
        "print(\" Libraries imported.\")"
      ],
      "metadata": {
        "colab": {
          "base_uri": "https://localhost:8080/"
        },
        "id": "1hvDr9-79FSu",
        "outputId": "2946b68a-41e3-4978-c51f-736bfc446a7d"
      },
      "execution_count": null,
      "outputs": [
        {
          "output_type": "stream",
          "name": "stdout",
          "text": [
            " Libraries imported.\n"
          ]
        }
      ]
    },
    {
      "cell_type": "markdown",
      "source": [
        "We will use two online text sources for this experiment:\n",
        "\n",
        "1. Alice in Wonderland  \n",
        "   URL: `https://www.gutenberg.org/files/11/11-0.txt`\n",
        "\n",
        "2. Dracula  \n",
        "   URL: `https://www.gutenberg.org/files/345/345-0.txt`\n",
        "\n",
        "We limit each text to the first 3000 characters for faster processing.\n"
      ],
      "metadata": {
        "id": "VortNNNc9Os0"
      }
    },
    {
      "cell_type": "code",
      "source": [
        "import requests\n",
        "\n",
        "url1 = \"https://www.gutenberg.org/files/11/11-0.txt\"   # Alice in Wonderland\n",
        "url2 = \"https://www.gutenberg.org/files/345/345-0.txt\"  # Dracula\n",
        "\n",
        "text1 = requests.get(url1).text[:3000]  # limit to first 3000 characters\n",
        "text2 = requests.get(url2).text[:3000]\n",
        "\n",
        "documents = [text1, text2]\n",
        "print(\"Documents fetched successfully!\")\n"
      ],
      "metadata": {
        "colab": {
          "base_uri": "https://localhost:8080/"
        },
        "id": "xzpE7ntq9J5r",
        "outputId": "04e4e1ac-68ec-4d9e-9c56-350370b405d9"
      },
      "execution_count": null,
      "outputs": [
        {
          "output_type": "stream",
          "name": "stdout",
          "text": [
            "Documents fetched successfully!\n"
          ]
        }
      ]
    },
    {
      "cell_type": "markdown",
      "source": [
        "Step 2: T5 Summarization & Paraphrasing\n",
        "\n",
        "The T5 model converts all NLP tasks into a text-to-text format  \n",
        "We will first summarize the document, then perform paraphrasing on the summary using a T5 paraphrase model.\n"
      ],
      "metadata": {
        "id": "RfeDGIyE9VLZ"
      }
    },
    {
      "cell_type": "code",
      "source": [
        "from transformers import T5Tokenizer, T5ForConditionalGeneration\n",
        "\n",
        "# T5 Summarization\n",
        "def summarize_t5(text, min_len=50, max_len=150):\n",
        "    tokenizer = T5Tokenizer.from_pretrained(\"t5-base\")\n",
        "    model = T5ForConditionalGeneration.from_pretrained(\"t5-base\")\n",
        "    input_text = \"summarize: \" + text.strip().replace(\"\\n\",\" \")\n",
        "    inputs = tokenizer.encode(input_text, return_tensors=\"pt\", max_length=1024, truncation=True)\n",
        "    summary_ids = model.generate(\n",
        "        inputs, max_length=max_len, min_length=min_len, num_beams=4, length_penalty=2.0, early_stopping=True\n",
        "    )\n",
        "    return tokenizer.decode(summary_ids[0], skip_special_tokens=True)\n",
        "\n",
        "# T5 Paraphrasing\n",
        "def paraphrase_t5(text):\n",
        "    model_name = \"Vamsi/T5_Paraphrase_Paws\"\n",
        "    tokenizer = T5Tokenizer.from_pretrained(model_name)\n",
        "    model = T5ForConditionalGeneration.from_pretrained(model_name)\n",
        "    input_text = \"paraphrase: \" + text\n",
        "    inputs = tokenizer.encode(input_text, return_tensors=\"pt\", max_length=1024, truncation=True)\n",
        "    paraphrase_ids = model.generate(inputs, max_length=256, num_beams=4, early_stopping=True)\n",
        "    return tokenizer.decode(paraphrase_ids[0], skip_special_tokens=True)\n",
        "\n",
        "# Run T5 on documents\n",
        "for idx, doc in enumerate(documents):\n",
        "    print(f\"\\n=== Document {idx+1} – T5 ===\")\n",
        "    t5_summary = summarize_t5(doc)\n",
        "    t5_paraphrase = paraphrase_t5(t5_summary)\n",
        "    print(\"\\nT5 Summary:\\n\", t5_summary)\n",
        "    print(\"\\nT5 Paraphrase:\\n\", t5_paraphrase)\n"
      ],
      "metadata": {
        "colab": {
          "base_uri": "https://localhost:8080/"
        },
        "id": "TuHwP5tJ9iEB",
        "outputId": "c2582069-8af1-4b9b-caed-ec75529af03b"
      },
      "execution_count": null,
      "outputs": [
        {
          "output_type": "stream",
          "name": "stdout",
          "text": [
            "\n",
            "=== Document 1 – T5 ===\n",
            "\n",
            "T5 Summary:\n",
            " a white rabbit with pink eyes pops down a rabbit-hole under the hedge . the rabbit-hole goes straight on like a tunnel for some way, and then drops down a very deep well . a jar of maps and pictures hung upon pegs were hung on a shelf .\n",
            "\n",
            "T5 Paraphrase:\n",
            " A white rabbit with pink eyes pops down a rabbit hole under the hedge , the rabbit hole goes straight on like a tunnel for some way and then drops down a very deep well , a jar of maps and pictures hung on pegs were hung on a shelf .\n",
            "\n",
            "=== Document 2 – T5 ===\n",
            "\n",
            "T5 Summary:\n",
            " a history almost at variance with the possibilities of later-day belief may stand forth as simple fact . all needless matters have been eliminated, so that a history almost at variance with the possibilities of later-day belief may stand forth as simple fact .\n",
            "\n",
            "T5 Paraphrase:\n",
            " a history almost at variance with the possibilities of later-day belief may stand forth as simple fact , all needless matters have been eliminated , so that a history almost at variance with the possibilities of later-day belief may stand forth as simple fact .\n"
          ]
        }
      ]
    },
    {
      "cell_type": "markdown",
      "source": [
        " Load and Clean Text from a URL\n",
        "\n",
        "We will fetch a text file from a URL and clean it by:\n",
        "1. Removing unnecessary newlines.\n",
        "2. Removing extra spaces.\n",
        "3. Keeping only readable text.\n"
      ],
      "metadata": {
        "id": "RBWW8gGy92pi"
      }
    },
    {
      "cell_type": "code",
      "source": [
        "import requests\n",
        "import re\n",
        "\n",
        "# URL of the text file\n",
        "url = \"https://www.gutenberg.org/files/11/11-0.txt\"  # Alice in Wonderland\n",
        "\n",
        "# Fetch the text\n",
        "response = requests.get(url)\n",
        "raw_text = response.text\n",
        "\n",
        "# Clean the text\n",
        "# Replace multiple spaces, tabs, and newlines with a single space\n",
        "clean_text = re.sub(r'\\s+', ' ', raw_text).strip()\n",
        "\n",
        "# Optional: limit to first 3000 characters for faster processing\n",
        "clean_text = clean_text[:3000]\n",
        "\n",
        "# Preview the first 500 characters\n",
        "print(clean_text[:500])\n"
      ],
      "metadata": {
        "colab": {
          "base_uri": "https://localhost:8080/"
        },
        "id": "Q4EHvHoW97Jn",
        "outputId": "edc04e54-b357-4e1f-ca0f-c142a24a1696"
      },
      "execution_count": null,
      "outputs": [
        {
          "output_type": "stream",
          "name": "stdout",
          "text": [
            "*** START OF THE PROJECT GUTENBERG EBOOK 11 *** [Illustration] Alice’s Adventures in Wonderland by Lewis Carroll THE MILLENNIUM FULCRUM EDITION 3.0 Contents CHAPTER I. Down the Rabbit-Hole CHAPTER II. The Pool of Tears CHAPTER III. A Caucus-Race and a Long Tale CHAPTER IV. The Rabbit Sends in a Little Bill CHAPTER V. Advice from a Caterpillar CHAPTER VI. Pig and Pepper CHAPTER VII. A Mad Tea-Party CHAPTER VIII. The Queen’s Croquet-Ground CHAPTER IX. The Mock Turtle’s Story CHAPTER X. The Lobster\n"
          ]
        }
      ]
    },
    {
      "cell_type": "markdown",
      "source": [
        "Step 3: BART Summarization\n",
        "\n",
        "The BART model is bidirectional and autoregressive, useful for abstractive summarization tasks.  \n",
        "We will summarize the same documents using BART for comparison.\n"
      ],
      "metadata": {
        "id": "lu9Y3zvd-AIg"
      }
    },
    {
      "cell_type": "code",
      "source": [
        "from transformers import BartTokenizer, BartForConditionalGeneration\n",
        "\n",
        "def summarize_bart(text, min_len=50, max_len=150):\n",
        "    tokenizer = BartTokenizer.from_pretrained(\"facebook/bart-base\")\n",
        "    model = BartForConditionalGeneration.from_pretrained(\"facebook/bart-base\")\n",
        "    inputs = tokenizer(text, return_tensors=\"pt\", max_length=1024, truncation=True)\n",
        "    summary_ids = model.generate(\n",
        "        inputs['input_ids'], max_length=max_len, min_length=min_len, num_beams=4, length_penalty=2.0, early_stopping=True\n",
        "    )\n",
        "    return tokenizer.decode(summary_ids[0], skip_special_tokens=True)\n",
        "\n",
        "for idx, doc in enumerate(documents):\n",
        "    print(f\"\\n=== Document {idx+1} – BART ===\")\n",
        "    bart_summary = summarize_bart(doc)\n",
        "    print(\"\\nBART Summary:\\n\", bart_summary)\n"
      ],
      "metadata": {
        "colab": {
          "base_uri": "https://localhost:8080/",
          "height": 371,
          "referenced_widgets": [
            "8359f6abb2d34b55a7af7ef8ab2378ba",
            "749d4d03804d4d1b9301565566892546",
            "929fa1bb12df41819f551d99c9060ad4",
            "764c804141d64ab99351560f00a3d0fc",
            "eaba00f5f3404499a2ef16f31c229153",
            "36193a7784f24b299004f09c5df8036d",
            "d1f90e8990434742aab140f59eab1c71",
            "a1466e1932334f86a2ad98ec697fdb07",
            "2805b6072def4d53b9e2681cc35aea56",
            "abf428255c7a4b5280c15c9f873345ad",
            "54f87c9c21284331b6373db71f297c84",
            "18ebeaee9a934beaa920ef236b73481d",
            "451dba48f51045af9256a997ebc1b1de",
            "8b34060535974395b918e69583bbf9be",
            "e5ab93b4243f40a49daaf542440066e8",
            "abaf65df829344d4b749ca90d2560db2",
            "1e3d0d6ad1c0455c87ae3fc92ae9b20a",
            "6ba97743537747d2ac24395f28a16249",
            "0da8d2a01c6848c3ae224fe892710dc3",
            "85b38d0876db4279a7abe853ae418db3",
            "394b7fa837b142e7ba9ee43ddbb19648",
            "c8f28f25faed4b07a024d490851dde5d",
            "a438e39376744743870ea3af04dd18cd",
            "c1119ba482bd4752b01f486389084924",
            "bdbeb83ca60946809d15466a1880a0c0",
            "3414939879d24467b0620a66bf5cb0c0",
            "8e382a180b9b4225b6a593ea135b04df",
            "92807a4ab3704d3e8c6e3c03cbfdb8ab",
            "c488f63954d24e0f9a2823a7472ede80",
            "ca12fd9d8243425a8975ee213be4a3cb",
            "3a249e9f39ab495bb69d2f5497e3316d",
            "c8c36d045f1343698a7301e3808c5715",
            "d431370b6c8f47f8bccc82ad974a0990",
            "4db03923e3cd419aad4159de156c2857",
            "da4b998ca8924c88863b5e8acf1f9e9e",
            "72ecf7a514ff440eaa1b29ae55eab7db",
            "f1515f17327e43aca3149da04e20b8bd",
            "539a6f37857b41c3944ee8088e11beae",
            "f6a36ccba1cd4e008fe3a65709d4003f",
            "c14ffeff2e674b65bfaccf1826b475fa",
            "2b83c71b63e24870842c94584c9fdbe1",
            "a43dda0d3f0b46bba7152aaaeb906e63",
            "010d60e2190049e8b0648221e13a4c62",
            "6083cc0cd2cc4f84bf63629aa3bb5f20",
            "37a25a5bde93407099fc8f2fac6ba3c7",
            "f2e625439802439aab4f22ccd028ca55",
            "8e11896edc064253aa18b816fe02c11d",
            "2a63f6d285d7467d9d98753b0dfa536c",
            "fa3e9280ea614c35802e5645a244164d",
            "9850cb5baa9948f7b248440a677844f4",
            "d0c921aadab24aef920a0913c768dd97",
            "60ac330648c34f4fa06c0cf02f63bf9e",
            "4ab6beabebc74fd4b306f805d6b7d32d",
            "3ecfa5dd79194d16959384fd5ff6082b",
            "7a7ec2e6061f4f43aa279926e8769307"
          ]
        },
        "id": "G4H-aBGU-LAc",
        "outputId": "8fc885bb-42c4-43f3-afdb-20c2e8e82adb"
      },
      "execution_count": null,
      "outputs": [
        {
          "output_type": "stream",
          "name": "stdout",
          "text": [
            "\n",
            "=== Document 1 – BART ===\n"
          ]
        },
        {
          "output_type": "display_data",
          "data": {
            "text/plain": [
              "vocab.json: 0.00B [00:00, ?B/s]"
            ],
            "application/vnd.jupyter.widget-view+json": {
              "version_major": 2,
              "version_minor": 0,
              "model_id": "8359f6abb2d34b55a7af7ef8ab2378ba"
            }
          },
          "metadata": {}
        },
        {
          "output_type": "display_data",
          "data": {
            "text/plain": [
              "merges.txt: 0.00B [00:00, ?B/s]"
            ],
            "application/vnd.jupyter.widget-view+json": {
              "version_major": 2,
              "version_minor": 0,
              "model_id": "18ebeaee9a934beaa920ef236b73481d"
            }
          },
          "metadata": {}
        },
        {
          "output_type": "display_data",
          "data": {
            "text/plain": [
              "tokenizer.json: 0.00B [00:00, ?B/s]"
            ],
            "application/vnd.jupyter.widget-view+json": {
              "version_major": 2,
              "version_minor": 0,
              "model_id": "a438e39376744743870ea3af04dd18cd"
            }
          },
          "metadata": {}
        },
        {
          "output_type": "display_data",
          "data": {
            "text/plain": [
              "config.json: 0.00B [00:00, ?B/s]"
            ],
            "application/vnd.jupyter.widget-view+json": {
              "version_major": 2,
              "version_minor": 0,
              "model_id": "4db03923e3cd419aad4159de156c2857"
            }
          },
          "metadata": {}
        },
        {
          "output_type": "display_data",
          "data": {
            "text/plain": [
              "model.safetensors:   0%|          | 0.00/558M [00:00<?, ?B/s]"
            ],
            "application/vnd.jupyter.widget-view+json": {
              "version_major": 2,
              "version_minor": 0,
              "model_id": "37a25a5bde93407099fc8f2fac6ba3c7"
            }
          },
          "metadata": {}
        },
        {
          "output_type": "stream",
          "name": "stdout",
          "text": [
            "\n",
            "BART Summary:\n",
            " *** START OF THE PROJECT GUTENBERG EBOOK 11 *** UNCLASSIFIEDCLASSIFIEDCLASSIFIEDCHAPTER I.    Alice’s Adventures in Wonderland UNCLASSIFIED UNCLASSIFIED[Illustration] UNCLASSIFIEDCLASSIFIEDCHAPTER II. Â  The Rabbit Sends in a Little Bill of Tears UNCLASSIFIED CHAPTER III.  .  The Bunny Sends In a Big Bill of Shampooby Lewis Carroll UNCLASSIFIED UNCLASSIFIEDTHE MILLENNIUM FULCRUM EDITION 3.0 UNCLASSIFIED UNCLASSIFIEDCHAPTER I, and the Rabbit-HoleReloaded CHAPTER II. I   The Pool of Tears unden CHAPTER I. d   A Caucus-Race and a Long Tale of the White Rabbit’S Story unden CHAMPION CHAPTER IV\n",
            "\n",
            "=== Document 2 – BART ===\n",
            "\n",
            "BART Summary:\n",
            " *** START OF THE PROJECT GUTENBERG EBOOK 345 *** �􀀠\\\\\\\\\\\\\\\\\\\\\\\\\\\\\\\\\\\\\\\\\\\\\\\\\\\\\\\\\\\\\\\\\\\\\\\\\\\\\\\\\\\\\\\\\\\\\\\\\\\\\\\\\\\\\\\\\\\\\\\\\\\\\\\\\\\\\\\\\\\\\\\\\\\\\\\\\\\\\\\\\\\\\\\\\\\\\\\\\\\\\\\\\\\\\\\\\\\\\\\\\\\\\\\\\\\\\\\\\\\\\\\\\\\\\\\\\\\\\\\\\\\\\\\\\\\\\\\\\\\\\\\\\\\\\\\\\\\\\\\\\\\\\\\\                                                                                      d  Â   .   (  �   T   D   I   DRACULA’S PRODUCTION-LOOKING SYSTEM-LIZLOOKED-LINKING SYSTEM SYSTEM-SIZLORE  \\\\\\\\\\\\\\\\\\\\\\\\\\\\\\\\\\\\\\\\\\\\\\\\\\\\\\\\\\\\\\\\                                                                                                                                                          � \n"
          ]
        }
      ]
    },
    {
      "cell_type": "markdown",
      "source": [
        "Step 4: Pegasus Summarization\n",
        "\n",
        "Pegasus is pre-trained specifically for **abstractive summarization** by predicting missing sentences in documents.  \n",
        "We will summarize the same documents using Pegasus for comparison.\n"
      ],
      "metadata": {
        "id": "ySVNV9WW-UgO"
      }
    },
    {
      "cell_type": "code",
      "source": [
        "from transformers import PegasusTokenizer, PegasusForConditionalGeneration\n",
        "\n",
        "def summarize_pegasus(text, min_len=50, max_len=150):\n",
        "    tokenizer = PegasusTokenizer.from_pretrained(\"google/pegasus-xsum\")\n",
        "    model = PegasusForConditionalGeneration.from_pretrained(\"google/pegasus-xsum\")\n",
        "    inputs = tokenizer(text, return_tensors=\"pt\", truncation=True)\n",
        "    summary_ids = model.generate(\n",
        "        inputs['input_ids'], max_length=max_len, min_length=min_len, num_beams=4, length_penalty=2.0, early_stopping=True\n",
        "    )\n",
        "    return tokenizer.decode(summary_ids[0], skip_special_tokens=True)\n",
        "\n",
        "for idx, doc in enumerate(documents):\n",
        "    print(f\"\\n=== Document {idx+1} – Pegasus ===\")\n",
        "    pegasus_summary = summarize_pegasus(doc)\n",
        "    print(\"\\nPegasus Summary:\\n\", pegasus_summary)\n"
      ],
      "metadata": {
        "colab": {
          "base_uri": "https://localhost:8080/"
        },
        "id": "HTqhmaSq-Z3v",
        "outputId": "872d4abd-85b0-4fc4-b1dc-c68948a321df"
      },
      "execution_count": null,
      "outputs": [
        {
          "output_type": "stream",
          "name": "stdout",
          "text": [
            "\n",
            "=== Document 1 – Pegasus ===\n"
          ]
        },
        {
          "output_type": "stream",
          "name": "stderr",
          "text": [
            "Some weights of PegasusForConditionalGeneration were not initialized from the model checkpoint at google/pegasus-xsum and are newly initialized: ['model.decoder.embed_positions.weight', 'model.encoder.embed_positions.weight']\n",
            "You should probably TRAIN this model on a down-stream task to be able to use it for predictions and inference.\n"
          ]
        },
        {
          "output_type": "stream",
          "name": "stdout",
          "text": [
            "\n",
            "Pegasus Summary:\n",
            " Alice was sitting by the bank, and had no idea what to do with herself, for she had never before seen a rabbit in a field, and had never before seen a waistcoat in a field, and had never before seen a watch in a field, and had never before seen a daisy-chain in a field, and had never before seen a rabbit in a field, and had never before seen a watch in a field, and had never before seen a rabbit in a field.\n",
            "\n",
            "=== Document 2 – Pegasus ===\n"
          ]
        },
        {
          "output_type": "stream",
          "name": "stderr",
          "text": [
            "Some weights of PegasusForConditionalGeneration were not initialized from the model checkpoint at google/pegasus-xsum and are newly initialized: ['model.decoder.embed_positions.weight', 'model.encoder.embed_positions.weight']\n",
            "You should probably TRAIN this model on a down-stream task to be able to use it for predictions and inference.\n"
          ]
        },
        {
          "output_type": "stream",
          "name": "stdout",
          "text": [
            "\n",
            "Pegasus Summary:\n",
            " The following is a statement of the history of The Dailygraph, which has been published in the United States for more than 100 years, and which has been translated into more than 30 languages.., by Bram Stoker, with permission from the Library of Congress, Washington, DC\n"
          ]
        }
      ]
    },
    {
      "cell_type": "markdown",
      "source": [
        "Step 5: Model Comparison\n",
        "\n",
        "We compare the **summary lengths** (number of words) produced by each model.  \n",
        "A heatmap will visualize which model produces longer or shorter summaries for each document.\n"
      ],
      "metadata": {
        "id": "7o864MPi-ekM"
      }
    },
    {
      "cell_type": "code",
      "source": [
        "import seaborn as sns\n",
        "import matplotlib.pyplot as plt\n",
        "\n",
        "summary_lengths = {\"T5\": [], \"BART\": [], \"Pegasus\": []}\n",
        "\n",
        "for doc in documents:\n",
        "    summary_lengths[\"T5\"].append(len(summarize_t5(doc).split()))\n",
        "    summary_lengths[\"BART\"].append(len(summarize_bart(doc).split()))\n",
        "    summary_lengths[\"Pegasus\"].append(len(summarize_pegasus(doc).split()))\n",
        "\n",
        "heatmap_data = [\n",
        "    summary_lengths[\"T5\"],\n",
        "    summary_lengths[\"BART\"],\n",
        "    summary_lengths[\"Pegasus\"]\n",
        "]\n",
        "\n",
        "model_names = [\"T5\", \"BART\", \"Pegasus\"]\n",
        "document_names = [f\"Doc {i+1}\" for i in range(len(documents))]\n",
        "\n",
        "plt.figure(figsize=(8,4))\n",
        "sns.heatmap(heatmap_data, annot=True, fmt=\"d\", cmap=\"YlGnBu\", xticklabels=document_names, yticklabels=model_names)\n",
        "plt.title(\"Heatmap of Summary Lengths Across Models and Documents\")\n",
        "plt.xlabel(\"Documents\")\n",
        "plt.ylabel(\"Models\")\n",
        "plt.show()\n"
      ],
      "metadata": {
        "colab": {
          "base_uri": "https://localhost:8080/",
          "height": 499
        },
        "id": "bWBNVJ6l-iZx",
        "outputId": "2385a0c1-acdc-46f4-af39-61e6d7df3607"
      },
      "execution_count": null,
      "outputs": [
        {
          "output_type": "stream",
          "name": "stderr",
          "text": [
            "Some weights of PegasusForConditionalGeneration were not initialized from the model checkpoint at google/pegasus-xsum and are newly initialized: ['model.decoder.embed_positions.weight', 'model.encoder.embed_positions.weight']\n",
            "You should probably TRAIN this model on a down-stream task to be able to use it for predictions and inference.\n",
            "Some weights of PegasusForConditionalGeneration were not initialized from the model checkpoint at google/pegasus-xsum and are newly initialized: ['model.decoder.embed_positions.weight', 'model.encoder.embed_positions.weight']\n",
            "You should probably TRAIN this model on a down-stream task to be able to use it for predictions and inference.\n"
          ]
        },
        {
          "output_type": "display_data",
          "data": {
            "text/plain": [
              "<Figure size 800x400 with 2 Axes>"
            ],
            "image/png": "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\n"
          },
          "metadata": {}
        }
      ]
    },
    {
      "cell_type": "markdown",
      "source": [
        "\n",
        "In this example, we will:\n",
        "\n",
        "1. Load a text file from a URL.\n",
        "2. Clean the text.\n",
        "3. Summarize it using T5, BART, and Pegasus.\n",
        "4. Compare summary lengths using a bar chart.\n"
      ],
      "metadata": {
        "id": "DqhUyurv-kfj"
      }
    },
    {
      "cell_type": "code",
      "source": [
        "import requests\n",
        "import re\n",
        "from transformers import T5Tokenizer, T5ForConditionalGeneration\n",
        "from transformers import BartTokenizer, BartForConditionalGeneration\n",
        "from transformers import PegasusTokenizer, PegasusForConditionalGeneration\n",
        "import matplotlib.pyplot as plt\n",
        "\n",
        "# -------------------------------\n",
        "# Step 1: Load and clean text\n",
        "# -------------------------------\n",
        "url = \"https://www.gutenberg.org/files/11/11-0.txt\"  # Alice in Wonderland\n",
        "response = requests.get(url)\n",
        "raw_text = response.text\n",
        "\n",
        "# Clean text: remove extra spaces, newlines, tabs\n",
        "clean_text = re.sub(r'\\s+', ' ', raw_text).strip()\n",
        "# Optional: limit length for faster processing\n",
        "clean_text = clean_text[:3000]\n",
        "\n",
        "# -------------------------------\n",
        "# Step 2: Define summarization functions\n",
        "# -------------------------------\n",
        "def summarize_t5(text):\n",
        "    tokenizer = T5Tokenizer.from_pretrained(\"t5-base\")\n",
        "    model = T5ForConditionalGeneration.from_pretrained(\"t5-base\")\n",
        "    input_text = \"summarize: \" + text\n",
        "    inputs = tokenizer.encode(input_text, return_tensors=\"pt\", max_length=1024, truncation=True)\n",
        "    summary_ids = model.generate(inputs, max_length=150, min_length=50, num_beams=4, length_penalty=2.0, early_stopping=True)\n",
        "    return tokenizer.decode(summary_ids[0], skip_special_tokens=True)\n",
        "\n",
        "def summarize_bart(text):\n",
        "    tokenizer = BartTokenizer.from_pretrained(\"facebook/bart-base\")\n",
        "    model = BartForConditionalGeneration.from_pretrained(\"facebook/bart-base\")\n",
        "    inputs = tokenizer(text, return_tensors=\"pt\", max_length=1024, truncation=True)\n",
        "    summary_ids = model.generate(inputs['input_ids'], max_length=150, min_length=50, num_beams=4, length_penalty=2.0, early_stopping=True)\n",
        "    return tokenizer.decode(summary_ids[0], skip_special_tokens=True)\n",
        "\n",
        "def summarize_pegasus(text):\n",
        "    tokenizer = PegasusTokenizer.from_pretrained(\"google/pegasus-xsum\")\n",
        "    model = PegasusForConditionalGeneration.from_pretrained(\"google/pegasus-xsum\")\n",
        "    inputs = tokenizer(text, return_tensors=\"pt\", truncation=True)\n",
        "    summary_ids = model.generate(inputs['input_ids'], max_length=150, min_length=50, num_beams=4, length_penalty=2.0, early_stopping=True)\n",
        "    return tokenizer.decode(summary_ids[0], skip_special_tokens=True)\n",
        "\n",
        "# -------------------------------\n",
        "# Step 3: Generate summaries\n",
        "# -------------------------------\n",
        "t5_summary = summarize_t5(clean_text)\n",
        "bart_summary = summarize_bart(clean_text)\n",
        "pegasus_summary = summarize_pegasus(clean_text)\n",
        "\n",
        "# Print summaries\n",
        "print(\"T5 Summary:\\n\", t5_summary, \"\\n\")\n",
        "print(\"BART Summary:\\n\", bart_summary, \"\\n\")\n",
        "print(\"Pegasus Summary:\\n\", pegasus_summary, \"\\n\")\n",
        "\n",
        "# -------------------------------\n",
        "# Step 4: Compare summary lengths\n",
        "# -------------------------------\n",
        "summary_lengths = {\n",
        "    \"T5\": len(t5_summary.split()),\n",
        "    \"BART\": len(bart_summary.split()),\n",
        "    \"Pegasus\": len(pegasus_summary.split())\n",
        "}\n",
        "\n",
        "# -------------------------------\n",
        "# Step 5: Plot bar chart\n",
        "# -------------------------------\n",
        "plt.figure(figsize=(6,4))\n",
        "plt.bar(summary_lengths.keys(), summary_lengths.values(), color=['skyblue','lightgreen','salmon'])\n",
        "plt.title(\"Summary Length Comparison\")\n",
        "plt.ylabel(\"Number of Words\")\n",
        "plt.show()\n"
      ],
      "metadata": {
        "colab": {
          "base_uri": "https://localhost:8080/",
          "height": 602
        },
        "id": "4nkdGMEs-w68",
        "outputId": "12e24169-77f6-4519-d645-9497bb44d6b7"
      },
      "execution_count": null,
      "outputs": [
        {
          "output_type": "stream",
          "name": "stderr",
          "text": [
            "Some weights of PegasusForConditionalGeneration were not initialized from the model checkpoint at google/pegasus-xsum and are newly initialized: ['model.decoder.embed_positions.weight', 'model.encoder.embed_positions.weight']\n",
            "You should probably TRAIN this model on a down-stream task to be able to use it for predictions and inference.\n"
          ]
        },
        {
          "output_type": "stream",
          "name": "stdout",
          "text": [
            "T5 Summary:\n",
            " a white rabbit with pink eyes pops down a rabbit-hole under the hedge . the rabbit-hole goes straight on like a tunnel for some way, and then dipped down . a jar of maps and pictures hung upon pegs, but it was empty as she fell . \n",
            "\n",
            "BART Summary:\n",
            " *** START OF THE PROJECT GUTENBERG EBOOK 11 *** [Illustration] Alice’s Adventures in Wonderland by Lewis Carroll THE MILLENNIUM FULCRUM EDITION 3.0 Contents CHAPTER I. Down the Rabbit-Hole CHAPTER II. The Pool of Tears CHAPTER III. A Caucus-Race and a Long Tale CHAPTER IV. The Rabbit Sends in a Little Bill CHAPTER V. Advice from a Caterpillar CHAPTER VI. Pig and Pepper CHAPTER VII. A Mad Tea-Party CHAPTER VIII. The Queen’S Croquet-Ground CHAPTER IX. The Mock Turtle CHAPTER X. The Lobster Quadrille CHAPTER XI. Who St \n",
            "\n",
            "Pegasus Summary:\n",
            " Alice was sitting by the bank, and had no idea what to do with herself, for she had never before seen a rabbit in a field, and had never before seen a waistcoat in a field, and had never before seen a watch in a field, and had never before seen a daisy-chain in a field, and had never before seen a rabbit in a field, and had never before seen a watch in a field, and had never before seen a rabbit in a field. \n",
            "\n"
          ]
        },
        {
          "output_type": "display_data",
          "data": {
            "text/plain": [
              "<Figure size 600x400 with 1 Axes>"
            ],
            "image/png": "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\n"
          },
          "metadata": {}
        }
      ]
    },
    {
      "cell_type": "markdown",
      "source": [
        "T5 Paraphrasing\n",
        "\n",
        "We will use a pretrained T5 paraphrase model to generate a paraphrased version of the text.  \n",
        "This helps in generating alternative expressions while keeping the meaning intact.\n"
      ],
      "metadata": {
        "id": "VRe83dtn_E2q"
      }
    },
    {
      "cell_type": "code",
      "source": [
        "from transformers import T5Tokenizer, T5ForConditionalGeneration\n",
        "\n",
        "# Function to paraphrase text using T5\n",
        "def paraphrase_t5(text):\n",
        "    model_name = \"Vamsi/T5_Paraphrase_Paws\"  # Pretrained T5 paraphrase model\n",
        "    tokenizer = T5Tokenizer.from_pretrained(model_name)\n",
        "    model = T5ForConditionalGeneration.from_pretrained(model_name)\n",
        "\n",
        "    # Prepare input for the model\n",
        "    input_text = \"paraphrase: \" + text\n",
        "    inputs = tokenizer.encode(input_text, return_tensors=\"pt\", max_length=1024, truncation=True)\n",
        "\n",
        "    # Generate paraphrase\n",
        "    paraphrase_ids = model.generate(inputs, max_length=256, num_beams=4, early_stopping=True)\n",
        "    paraphrased_text = tokenizer.decode(paraphrase_ids[0], skip_special_tokens=True)\n",
        "    return paraphrased_text\n",
        "\n",
        "# Example usage\n",
        "original_text = \"Alice was beginning to get very tired of sitting by her sister on the bank.\"\n",
        "paraphrased_text = paraphrase_t5(original_text)\n",
        "\n",
        "print(\"Original Text:\\n\", original_text)\n",
        "print(\"\\nParaphrased Text:\\n\", paraphrased_text)\n"
      ],
      "metadata": {
        "colab": {
          "base_uri": "https://localhost:8080/"
        },
        "id": "Hg0ri1Du_GwA",
        "outputId": "d9c7b0d7-6021-4962-b7c3-b438273ffe53"
      },
      "execution_count": null,
      "outputs": [
        {
          "output_type": "stream",
          "name": "stdout",
          "text": [
            "Original Text:\n",
            " Alice was beginning to get very tired of sitting by her sister on the bank.\n",
            "\n",
            "Paraphrased Text:\n",
            " Alice was beginning to get very tired of sitting by her sister on the bank .\n"
          ]
        }
      ]
    },
    {
      "cell_type": "markdown",
      "source": [
        " Pegasus Paraphrasing\n",
        "\n",
        "Although Pegasus is mainly used for summarization, it can be used to generate paraphrased versions of text in an abstractive way.\n"
      ],
      "metadata": {
        "id": "dw8jAtxH_wnu"
      }
    },
    {
      "cell_type": "code",
      "source": [
        "from transformers import PegasusTokenizer, PegasusForConditionalGeneration\n",
        "\n",
        "# Function to \"paraphrase\" text using Pegasus\n",
        "def paraphrase_pegasus(text, max_len=100, min_len=30):\n",
        "    # Use the pre-trained Pegasus XSUM model\n",
        "    model_name = \"google/pegasus-xsum\"\n",
        "    tokenizer = PegasusTokenizer.from_pretrained(model_name)\n",
        "    model = PegasusForConditionalGeneration.from_pretrained(model_name)\n",
        "\n",
        "    # Encode the text\n",
        "    inputs = tokenizer(text, return_tensors=\"pt\", truncation=True)\n",
        "\n",
        "    # Generate output\n",
        "    paraphrase_ids = model.generate(\n",
        "        inputs['input_ids'],\n",
        "        max_length=max_len,\n",
        "        min_length=min_len,\n",
        "        num_beams=4,\n",
        "        length_penalty=2.0,\n",
        "        early_stopping=True\n",
        "    )\n",
        "\n",
        "    # Decode output\n",
        "    paraphrased_text = tokenizer.decode(paraphrase_ids[0], skip_special_tokens=True)\n",
        "    return paraphrased_text\n",
        "\n",
        "# Example usage\n",
        "original_text = \"Alice was beginning to get very tired of sitting by her sister on the bank.\"\n",
        "pegasus_paraphrase = paraphrase_pegasus(original_text)\n",
        "\n",
        "print(\"Original Text:\\n\", original_text)\n",
        "print(\"\\nPegasus Paraphrased Text:\\n\", pegasus_paraphrase)\n"
      ],
      "metadata": {
        "colab": {
          "base_uri": "https://localhost:8080/"
        },
        "id": "CtM9cdQZ_zO3",
        "outputId": "8e69528b-207a-4232-c2ed-6fc08ce9633d"
      },
      "execution_count": null,
      "outputs": [
        {
          "output_type": "stream",
          "name": "stderr",
          "text": [
            "Some weights of PegasusForConditionalGeneration were not initialized from the model checkpoint at google/pegasus-xsum and are newly initialized: ['model.decoder.embed_positions.weight', 'model.encoder.embed_positions.weight']\n",
            "You should probably TRAIN this model on a down-stream task to be able to use it for predictions and inference.\n"
          ]
        },
        {
          "output_type": "stream",
          "name": "stdout",
          "text": [
            "Original Text:\n",
            " Alice was beginning to get very tired of sitting by her sister on the bank.\n",
            "\n",
            "Pegasus Paraphrased Text:\n",
            " This is the story of Alice and her sister, who had been having a bit of a problem with each other at the bank, so Alice decided to take matters into her own hands and asked her sister to sit next to her.\n"
          ]
        }
      ]
    }
  ]
}
